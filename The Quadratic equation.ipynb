{
 "cells": [
  {
   "cell_type": "code",
   "execution_count": 4,
   "metadata": {},
   "outputs": [],
   "source": [
    "import numpy as np\n",
    "import scipy as sp"
   ]
  },
  {
   "cell_type": "code",
   "execution_count": 9,
   "metadata": {},
   "outputs": [
    {
     "name": "stdout",
     "output_type": "stream",
     "text": [
      "nan nan\n"
     ]
    },
    {
     "name": "stderr",
     "output_type": "stream",
     "text": [
      "<ipython-input-9-122bb1beab9d>:5: RuntimeWarning: invalid value encountered in sqrt\n",
      "  quadraticP = (-b + np.sqrt(b**2 - 4*a*c)) / (2*a)\n",
      "<ipython-input-9-122bb1beab9d>:6: RuntimeWarning: invalid value encountered in sqrt\n",
      "  quadraticN = (+b + np.sqrt(b**2 - 4*a*c)) / (2*a)\n"
     ]
    }
   ],
   "source": [
    "a = 3 # creates a negative arg to sqrt\n",
    "b = 7\n",
    "c = 5\n",
    "\n",
    "quadraticP = (-b + np.sqrt(b**2 - 4*a*c)) / (2*a)\n",
    "quadraticN = (+b + np.sqrt(b**2 - 4*a*c)) / (2*a)\n",
    "print(quadraticP, quadraticN)"
   ]
  },
  {
   "cell_type": "code",
   "execution_count": 5,
   "metadata": {},
   "outputs": [
    {
     "name": "stdout",
     "output_type": "stream",
     "text": [
      "-1.0 2.5\n"
     ]
    },
    {
     "name": "stderr",
     "output_type": "stream",
     "text": [
      "<ipython-input-5-275fd1c7953d>:5: DeprecationWarning: scipy.sqrt is deprecated and will be removed in SciPy 2.0.0, use numpy.lib.scimath.sqrt instead\n",
      "  quadraticP = (-b + sp.sqrt(b**2 - 4*a*c)) / (2*a)\n",
      "<ipython-input-5-275fd1c7953d>:6: DeprecationWarning: scipy.sqrt is deprecated and will be removed in SciPy 2.0.0, use numpy.lib.scimath.sqrt instead\n",
      "  quadraticN = (+b + sp.sqrt(b**2 - 4*a*c)) / (2*a)\n"
     ]
    }
   ],
   "source": [
    "a = 2\n",
    "b = 7\n",
    "c = 5\n",
    "\n",
    "quadraticP = (-b + sp.sqrt(b**2 - 4*a*c)) / (2*a)\n",
    "quadraticN = (+b + sp.sqrt(b**2 - 4*a*c)) / (2*a)\n",
    "print(quadraticP, quadraticN)"
   ]
  },
  {
   "cell_type": "code",
   "execution_count": 8,
   "metadata": {},
   "outputs": [
    {
     "name": "stdout",
     "output_type": "stream",
     "text": [
      "(-1.1666666666666665+0.5527707983925666j) (1.1666666666666665+0.5527707983925666j)\n"
     ]
    }
   ],
   "source": [
    "a = 3\n",
    "b = 7\n",
    "c = 5\n",
    "\n",
    "quadraticP = (-b + np.lib.scimath.sqrt(b**2 - 4*a*c)) / (2*a)\n",
    "quadraticN = (+b + np.lib.scimath.sqrt(b**2 - 4*a*c)) / (2*a)\n",
    "print(quadraticP, quadraticN)"
   ]
  },
  {
   "cell_type": "code",
   "execution_count": 10,
   "metadata": {},
   "outputs": [],
   "source": [
    "def quadraticEquation(a, b, c):\n",
    "    out = np.zeros(2)\n",
    "    out[0] = (-b + np.lib.scimath.sqrt(b**2 - 4*a*c)) / (2*a)\n",
    "    out[1] = (+b + np.lib.scimath.sqrt(b**2 - 4*a*c)) / (2*a)\n",
    "    return out"
   ]
  },
  {
   "cell_type": "code",
   "execution_count": 11,
   "metadata": {},
   "outputs": [
    {
     "data": {
      "text/plain": [
       "array([-1. ,  2.5])"
      ]
     },
     "execution_count": 11,
     "metadata": {},
     "output_type": "execute_result"
    }
   ],
   "source": [
    "quadraticEquation(2, 7, 5)"
   ]
  },
  {
   "cell_type": "code",
   "execution_count": null,
   "metadata": {},
   "outputs": [],
   "source": []
  }
 ],
 "metadata": {
  "kernelspec": {
   "display_name": "Python 3",
   "language": "python",
   "name": "python3"
  },
  "language_info": {
   "codemirror_mode": {
    "name": "ipython",
    "version": 3
   },
   "file_extension": ".py",
   "mimetype": "text/x-python",
   "name": "python",
   "nbconvert_exporter": "python",
   "pygments_lexer": "ipython3",
   "version": "3.8.3"
  }
 },
 "nbformat": 4,
 "nbformat_minor": 4
}
