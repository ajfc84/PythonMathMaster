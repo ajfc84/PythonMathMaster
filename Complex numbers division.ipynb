{
 "cells": [
  {
   "cell_type": "code",
   "execution_count": 1,
   "metadata": {},
   "outputs": [],
   "source": [
    "import numpy as np\n",
    "import sympy as sym\n",
    "from IPython.display import Math"
   ]
  },
  {
   "cell_type": "code",
   "execution_count": 3,
   "metadata": {},
   "outputs": [
    {
     "data": {
      "text/latex": [
       "$\\displaystyle \\frac{(4+2j)}{2} = (2+1j)$"
      ],
      "text/plain": [
       "<IPython.core.display.Math object>"
      ]
     },
     "execution_count": 3,
     "metadata": {},
     "output_type": "execute_result"
    }
   ],
   "source": [
    "z = np.complex(4, 2)\n",
    "Math('\\\\frac{%s}{2} = %s' % (z, z/2))"
   ]
  },
  {
   "cell_type": "code",
   "execution_count": 9,
   "metadata": {},
   "outputs": [
    {
     "data": {
      "text/latex": [
       "$\\displaystyle \\frac{(4+2j)}{(2-3j)} = \\frac{(4+2j) \\times (2+3j)}{(2-3j) \\times (2+3j)} = (0.15384615384615383+1.2307692307692308j)$"
      ],
      "text/plain": [
       "<IPython.core.display.Math object>"
      ]
     },
     "execution_count": 9,
     "metadata": {},
     "output_type": "execute_result"
    }
   ],
   "source": [
    "z1 = np.complex(4, 2)\n",
    "z2 = np.complex(2, -3)\n",
    "\n",
    "Math('\\\\frac{%s}{%s} = \\\\frac{%s \\\\times %s}{%s \\\\times %s} = %s' % \n",
    "     (z1, z2, z1, np.conj(z2), z2, np.conj(z2), z1/z2))"
   ]
  },
  {
   "cell_type": "code",
   "execution_count": 24,
   "metadata": {},
   "outputs": [],
   "source": [
    "# Exercise\n",
    "\n",
    "z = np.complex(4, 2)\n",
    "w = np.complex(3, 5)\n",
    "\n",
    "ln = (z - 1)*(z*w + w)\n",
    "ld = (w*z - w)\n",
    "rn = (w - 1)*(1 - w)\n",
    "rd = (-z*w**2 - w**2 + 2*w*z + 2*w - z - 1)"
   ]
  },
  {
   "cell_type": "code",
   "execution_count": 26,
   "metadata": {},
   "outputs": [
    {
     "data": {
      "text/latex": [
       "$\\displaystyle \\frac{((4+2j) - 1)((4+2j)(3+5j) + (3+5j))}{(3+5j)(4+2j) - (3+5j)}\\times     \\frac{((3+5j) - 1)(1 - (3+5j))}{-(4+2j)(3+5j)^2 - (3+5j)^2 + 2(3+5j)(4+2j) + 2(3+5j) - (4+2j) - 1}$"
      ],
      "text/plain": [
       "<IPython.core.display.Math object>"
      ]
     },
     "execution_count": 26,
     "metadata": {},
     "output_type": "execute_result"
    }
   ],
   "source": [
    "Math('\\\\frac{(%s - 1)(%s%s + %s)}{%s%s - %s}\\\\times\\\n",
    "     \\\\frac{(%s - 1)(1 - %s)}{-%s%s^2 - %s^2 + 2%s%s + 2%s - %s - 1}' % \n",
    "     (z, z, w, w, w, z, w, \n",
    "      w, w, z, w, w, w, z, w, z))"
   ]
  },
  {
   "cell_type": "code",
   "execution_count": 27,
   "metadata": {},
   "outputs": [
    {
     "data": {
      "text/latex": [
       "$\\displaystyle \\frac{(-47+103j)}{(-1+21j)}\\times\\frac{(21-20j)}{(145-58j)}$"
      ],
      "text/plain": [
       "<IPython.core.display.Math object>"
      ]
     },
     "execution_count": 27,
     "metadata": {},
     "output_type": "execute_result"
    }
   ],
   "source": [
    "Math('\\\\frac{%s}{%s}\\\\times\\\\frac{%s}{%s}' % (ln, ld, rn, rd))"
   ]
  },
  {
   "cell_type": "code",
   "execution_count": 33,
   "metadata": {},
   "outputs": [
    {
     "data": {
      "text/latex": [
       "$\\displaystyle (5+2j) = (0.1724137931034483-0.06896551724137931j) = (1+0j)$"
      ],
      "text/plain": [
       "<IPython.core.display.Math object>"
      ]
     },
     "execution_count": 33,
     "metadata": {},
     "output_type": "execute_result"
    }
   ],
   "source": [
    "Math('%s = %s = %s' % (ln / ld, rn / rd, (ln / ld) * (rn / rd)))"
   ]
  },
  {
   "cell_type": "code",
   "execution_count": null,
   "metadata": {},
   "outputs": [],
   "source": []
  }
 ],
 "metadata": {
  "kernelspec": {
   "display_name": "Python 3",
   "language": "python",
   "name": "python3"
  },
  "language_info": {
   "codemirror_mode": {
    "name": "ipython",
    "version": 3
   },
   "file_extension": ".py",
   "mimetype": "text/x-python",
   "name": "python",
   "nbconvert_exporter": "python",
   "pygments_lexer": "ipython3",
   "version": "3.8.3"
  }
 },
 "nbformat": 4,
 "nbformat_minor": 4
}
