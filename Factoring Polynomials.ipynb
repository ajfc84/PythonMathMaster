{
 "cells": [
  {
   "cell_type": "code",
   "execution_count": 1,
   "metadata": {},
   "outputs": [],
   "source": [
    "import sympy as sym\n",
    "from IPython.display import Math"
   ]
  },
  {
   "cell_type": "code",
   "execution_count": 5,
   "metadata": {},
   "outputs": [
    {
     "data": {
      "text/latex": [
       "$\\displaystyle x^{2} + 4 x + 3 \\text{ = } \\left(x + 1\\right) \\left(x + 3\\right)$"
      ],
      "text/plain": [
       "<IPython.core.display.Math object>"
      ]
     },
     "execution_count": 5,
     "metadata": {},
     "output_type": "execute_result"
    }
   ],
   "source": [
    "x, y = sym.symbols(\"x y\")\n",
    "\n",
    "p = x**2 + 4*x + 3\n",
    "pfactor = sym.factor(p)\n",
    "Math('%s \\\\text{ = } %s' % (sym.latex(p), sym.latex(pfactor)))"
   ]
  },
  {
   "cell_type": "code",
   "execution_count": 24,
   "metadata": {},
   "outputs": [
    {
     "data": {
      "text/latex": [
       "$\\displaystyle x^{2} + 4 x + 3 = \\left(x + 1\\right) \\left(x + 3\\right)$"
      ],
      "text/plain": [
       "Eq(x**2 + 4*x + 3, (x + 1)*(x + 3))"
      ]
     },
     "execution_count": 24,
     "metadata": {},
     "output_type": "execute_result"
    }
   ],
   "source": [
    "# Exercise\n",
    "\n",
    "pol1 = x**2 + 4*x + 3\n",
    "pol1f = sym.factor(pol1)\n",
    "Math('%s \\Rightarrow %s' % (sym.latex(pol1), (\"not factorable!\" if sym.Eq(pol1, pol1f) == True else sym.latex(pol1f)) ) )\n",
    "sym.Eq(pol1, pol1f)"
   ]
  },
  {
   "cell_type": "code",
   "execution_count": 25,
   "metadata": {},
   "outputs": [
    {
     "data": {
      "text/latex": [
       "$\\displaystyle 2 y^{2} - 1 \\Rightarrow not factorable!$"
      ],
      "text/plain": [
       "<IPython.core.display.Math object>"
      ]
     },
     "execution_count": 25,
     "metadata": {},
     "output_type": "execute_result"
    }
   ],
   "source": [
    "pol2 = 2*y**2 - 1\n",
    "pol2f = sym.factor(pol2)\n",
    "Math('%s \\Rightarrow %s' % (sym.latex(pol2), (\"not factorable!\" if sym.Eq(pol2, pol2f) == True else sym.latex(pol2f))))"
   ]
  },
  {
   "cell_type": "code",
   "execution_count": 26,
   "metadata": {},
   "outputs": [
    {
     "data": {
      "text/latex": [
       "$\\displaystyle 3 y^{2} + 12 y \\Rightarrow 3 y \\left(y + 4\\right)$"
      ],
      "text/plain": [
       "<IPython.core.display.Math object>"
      ]
     },
     "execution_count": 26,
     "metadata": {},
     "output_type": "execute_result"
    }
   ],
   "source": [
    "pol3 = 3*y**2 + 12*y\n",
    "pol3f = sym.factor(pol3)\n",
    "Math('%s \\Rightarrow %s' % (sym.latex(pol3), (\"not factorable!\" if sym.Eq(pol3, pol3f) == True else sym.latex(pol3f)) ) )"
   ]
  },
  {
   "cell_type": "code",
   "execution_count": null,
   "metadata": {},
   "outputs": [],
   "source": []
  }
 ],
 "metadata": {
  "kernelspec": {
   "display_name": "Python 3",
   "language": "python",
   "name": "python3"
  },
  "language_info": {
   "codemirror_mode": {
    "name": "ipython",
    "version": 3
   },
   "file_extension": ".py",
   "mimetype": "text/x-python",
   "name": "python",
   "nbconvert_exporter": "python",
   "pygments_lexer": "ipython3",
   "version": "3.8.3"
  }
 },
 "nbformat": 4,
 "nbformat_minor": 4
}
