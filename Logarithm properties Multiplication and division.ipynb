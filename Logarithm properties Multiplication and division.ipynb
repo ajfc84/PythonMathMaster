{
 "cells": [
  {
   "cell_type": "code",
   "execution_count": 1,
   "metadata": {},
   "outputs": [],
   "source": [
    "import numpy as np\n",
    "from IPython.display import display, Math"
   ]
  },
  {
   "cell_type": "code",
   "execution_count": 7,
   "metadata": {},
   "outputs": [
    {
     "data": {
      "text/latex": [
       "$\\displaystyle \\log{3\\times4} = 2.4849066497880004$"
      ],
      "text/plain": [
       "<IPython.core.display.Math object>"
      ]
     },
     "metadata": {},
     "output_type": "display_data"
    },
    {
     "data": {
      "text/latex": [
       "$\\displaystyle \\log{3}\\times\\log{4} = 1.523000020837618$"
      ],
      "text/plain": [
       "<IPython.core.display.Math object>"
      ]
     },
     "metadata": {},
     "output_type": "display_data"
    },
    {
     "data": {
      "text/latex": [
       "$\\displaystyle \\log{3}+\\log{4} = 2.4849066497880004$"
      ],
      "text/plain": [
       "<IPython.core.display.Math object>"
      ]
     },
     "metadata": {},
     "output_type": "display_data"
    },
    {
     "data": {
      "text/latex": [
       "$\\displaystyle \\log{3\\times4} = \\log{3}+\\log{4}$"
      ],
      "text/plain": [
       "<IPython.core.display.Math object>"
      ]
     },
     "metadata": {},
     "output_type": "display_data"
    },
    {
     "data": {
      "text/latex": [
       "$\\displaystyle \\log{3\\times4} \\neq \\log{3}+\\log{4}$"
      ],
      "text/plain": [
       "<IPython.core.display.Math object>"
      ]
     },
     "metadata": {},
     "output_type": "display_data"
    }
   ],
   "source": [
    "a = 3\n",
    "b = 4\n",
    "\n",
    "res1 = np.log(a*b)\n",
    "res2= np.log(a) * np.log(b)\n",
    "res3= np.log(a) + np.log(b)\n",
    "display(Math('\\\\log{%s\\\\times%s} = %s' % (a, b, res1)))\n",
    "display(Math('\\\\log{%s}\\\\times\\\\log{%s} = %s' % (a, b, res2)))\n",
    "display(Math('\\\\log{%s}+\\\\log{%s} = %s' % (a, b, res3)))\n",
    "\n",
    "display(Math('\\\\log{%s\\\\times%s} = \\\\log{%s}+\\\\log{%s}' % (a, b, a, b)))\n",
    "display(Math('\\\\log{%s\\\\times%s} \\\\neq \\\\log{%s}+\\\\log{%s}' % (a, b, a, b)))\n"
   ]
  },
  {
   "cell_type": "code",
   "execution_count": 13,
   "metadata": {},
   "outputs": [
    {
     "data": {
      "text/latex": [
       "$\\displaystyle \\log{\\frac{3}{4}} = -0.2876820724517809$"
      ],
      "text/plain": [
       "<IPython.core.display.Math object>"
      ]
     },
     "metadata": {},
     "output_type": "display_data"
    },
    {
     "data": {
      "text/latex": [
       "$\\displaystyle \\frac{\\log{3}}{\\log{4}} = 0.7924812503605781$"
      ],
      "text/plain": [
       "<IPython.core.display.Math object>"
      ]
     },
     "metadata": {},
     "output_type": "display_data"
    },
    {
     "data": {
      "text/latex": [
       "$\\displaystyle \\log{3}-\\log{4} = 2.4849066497880004$"
      ],
      "text/plain": [
       "<IPython.core.display.Math object>"
      ]
     },
     "metadata": {},
     "output_type": "display_data"
    },
    {
     "data": {
      "text/latex": [
       "$\\displaystyle \\log{\\left(\\frac{3}{4}\\right)} = \\log{3}-\\log{4}$"
      ],
      "text/plain": [
       "<IPython.core.display.Math object>"
      ]
     },
     "metadata": {},
     "output_type": "display_data"
    },
    {
     "data": {
      "text/latex": [
       "$\\displaystyle \\log{\\frac{3}{4}} \\neq \\frac{\\log{3}}{\\log{4}}$"
      ],
      "text/plain": [
       "<IPython.core.display.Math object>"
      ]
     },
     "metadata": {},
     "output_type": "display_data"
    }
   ],
   "source": [
    "a = 3\n",
    "b = 4\n",
    "\n",
    "res1 = np.log(a/b)\n",
    "res2= np.log(a) / np.log(b)\n",
    "res3= np.log(a) + np.log(b)\n",
    "display(Math('\\\\log{\\\\frac{%s}{%s}} = %s' % (a, b, res1)))\n",
    "display(Math('\\\\frac{\\\\log{%s}}{\\\\log{%s}} = %s' % (a, b, res2)))\n",
    "display(Math('\\\\log{%s}-\\\\log{%s} = %s' % (a, b, res3)))\n",
    "\n",
    "display(Math('\\\\log{\\\\left(\\\\frac{%s}{%s}\\\\right)} = \\\\log{%s}-\\\\log{%s}' % (a, b, a, b)))\n",
    "display(Math('\\\\log{\\\\frac{%s}{%s}} \\\\neq \\\\frac{\\\\log{%s}}{\\\\log{%s}}' % (a, b, a, b)))"
   ]
  },
  {
   "cell_type": "code",
   "execution_count": 21,
   "metadata": {},
   "outputs": [
    {
     "data": {
      "text/latex": [
       "$\\displaystyle \\log{3^4} = 4.394449154672439$"
      ],
      "text/plain": [
       "<IPython.core.display.Math object>"
      ]
     },
     "metadata": {},
     "output_type": "display_data"
    },
    {
     "data": {
      "text/latex": [
       "$\\displaystyle 4\\log{3} = 4.394449154672439$"
      ],
      "text/plain": [
       "<IPython.core.display.Math object>"
      ]
     },
     "metadata": {},
     "output_type": "display_data"
    },
    {
     "data": {
      "text/latex": [
       "$\\displaystyle \\log{3^4} = 4\\log{3}$"
      ],
      "text/plain": [
       "<IPython.core.display.Math object>"
      ]
     },
     "metadata": {},
     "output_type": "display_data"
    }
   ],
   "source": [
    "# Exercise\n",
    "\n",
    "res4 = np.log(a**b)\n",
    "res5 = b * np.log(a)\n",
    "\n",
    "display(Math('\\\\log{%s^%s} = %s' % (a, b, res4) ))\n",
    "display(Math('%s\\\\log{%s} = %s' % (b, a, res5) ))\n",
    "\n",
    "display(Math('\\\\log{%s^%s} = %s\\\\log{%s}' % (a, b, b, a) ))"
   ]
  },
  {
   "cell_type": "code",
   "execution_count": null,
   "metadata": {},
   "outputs": [],
   "source": []
  }
 ],
 "metadata": {
  "kernelspec": {
   "display_name": "Python 3",
   "language": "python",
   "name": "python3"
  },
  "language_info": {
   "codemirror_mode": {
    "name": "ipython",
    "version": 3
   },
   "file_extension": ".py",
   "mimetype": "text/x-python",
   "name": "python",
   "nbconvert_exporter": "python",
   "pygments_lexer": "ipython3",
   "version": "3.8.3"
  }
 },
 "nbformat": 4,
 "nbformat_minor": 4
}
