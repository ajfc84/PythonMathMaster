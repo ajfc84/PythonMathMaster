{
 "cells": [
  {
   "cell_type": "code",
   "execution_count": 24,
   "metadata": {},
   "outputs": [],
   "source": [
    "import sympy as sym\n",
    "from IPython.display import Math, display"
   ]
  },
  {
   "cell_type": "markdown",
   "metadata": {},
   "source": [
    "# Associative rule"
   ]
  },
  {
   "cell_type": "code",
   "execution_count": 2,
   "metadata": {},
   "outputs": [
    {
     "data": {
      "text/latex": [
       "$\\displaystyle 0$"
      ],
      "text/plain": [
       "0"
      ]
     },
     "execution_count": 2,
     "metadata": {},
     "output_type": "execute_result"
    }
   ],
   "source": [
    "from sympy.abc import x, y\n",
    "\n",
    "expr1 = x*(4*y)\n",
    "expr2 = (x*4)*y\n",
    "expr1 - expr2"
   ]
  },
  {
   "cell_type": "markdown",
   "metadata": {},
   "source": [
    "# Comutative rule"
   ]
  },
  {
   "cell_type": "code",
   "execution_count": 3,
   "metadata": {},
   "outputs": [],
   "source": [
    "e1 = 4*x*y\n",
    "e2 = x*4*y\n",
    "e3 = y*x*4"
   ]
  },
  {
   "cell_type": "code",
   "execution_count": 8,
   "metadata": {},
   "outputs": [
    {
     "name": "stdout",
     "output_type": "stream",
     "text": [
      "24\n",
      "24\n",
      "24\n"
     ]
    }
   ],
   "source": [
    "print(e1.subs({x: 3, y: 2}))\n",
    "print(e2.subs({x: 3, y: 2}))\n",
    "print(e3.subs({x: 3, y: 2}))"
   ]
  },
  {
   "cell_type": "markdown",
   "metadata": {},
   "source": [
    "# Distributive rule"
   ]
  },
  {
   "cell_type": "code",
   "execution_count": 12,
   "metadata": {},
   "outputs": [
    {
     "data": {
      "text/latex": [
       "$\\displaystyle a c + a d + b c + b d$"
      ],
      "text/plain": [
       "a*c + a*d + b*c + b*d"
      ]
     },
     "execution_count": 12,
     "metadata": {},
     "output_type": "execute_result"
    }
   ],
   "source": [
    "a, b, c, d = sym.symbols('a, b, c, d')\n",
    "\n",
    "expr = (a+b)*(c+d)\n",
    "sym.expand(expr)"
   ]
  },
  {
   "cell_type": "markdown",
   "metadata": {},
   "source": [
    "# Exercise"
   ]
  },
  {
   "cell_type": "code",
   "execution_count": 60,
   "metadata": {},
   "outputs": [],
   "source": [
    "x, y, z, w = sym.symbols('x, y, z, w')"
   ]
  },
  {
   "cell_type": "code",
   "execution_count": 61,
   "metadata": {},
   "outputs": [
    {
     "data": {
      "text/latex": [
       "$\\displaystyle w \\left(4 - w\\right) + \\frac{w + 1}{w^{2}}$"
      ],
      "text/plain": [
       "w*(4 - w) + (w + 1)/w**2"
      ]
     },
     "execution_count": 61,
     "metadata": {},
     "output_type": "execute_result"
    }
   ],
   "source": [
    "x = w*(4 - w) + 1/w**2*(1 + w)\n",
    "x"
   ]
  },
  {
   "cell_type": "code",
   "execution_count": 62,
   "metadata": {},
   "outputs": [
    {
     "data": {
      "text/latex": [
       "$\\displaystyle \\left(y + z\\right) \\left(w \\left(4 - w\\right) + \\frac{w + 1}{w^{2}}\\right)$"
      ],
      "text/plain": [
       "(y + z)*(w*(4 - w) + (w + 1)/w**2)"
      ]
     },
     "execution_count": 62,
     "metadata": {},
     "output_type": "execute_result"
    }
   ],
   "source": [
    "f1 = x*(y + z)\n",
    "f1"
   ]
  },
  {
   "cell_type": "code",
   "execution_count": 63,
   "metadata": {},
   "outputs": [
    {
     "data": {
      "text/latex": [
       "$\\displaystyle \\left(w \\left(4 - w\\right) + \\frac{w + 1}{w^{2}}\\right)^{2} + \\frac{3}{w \\left(4 - w\\right) + \\frac{w + 1}{w^{2}}}$"
      ],
      "text/plain": [
       "(w*(4 - w) + (w + 1)/w**2)**2 + 3/(w*(4 - w) + (w + 1)/w**2)"
      ]
     },
     "execution_count": 63,
     "metadata": {},
     "output_type": "execute_result"
    }
   ],
   "source": [
    "f2 = 3/x + x**2\n",
    "f2"
   ]
  },
  {
   "cell_type": "code",
   "execution_count": 68,
   "metadata": {},
   "outputs": [
    {
     "data": {
      "text/latex": [
       "$\\displaystyle \\left(y + z\\right) \\left(w \\left(4 - w\\right) + \\frac{w + 1}{w^{2}}\\right) \\left(\\left(w \\left(4 - w\\right) + \\frac{w + 1}{w^{2}}\\right)^{2} + \\frac{3}{w \\left(4 - w\\right) + \\frac{w + 1}{w^{2}}}\\right)$"
      ],
      "text/plain": [
       "<IPython.core.display.Math object>"
      ]
     },
     "metadata": {},
     "output_type": "display_data"
    },
    {
     "data": {
      "text/latex": [
       "$\\displaystyle \\frac{\\left(3 w^{6} + \\left(- w^{3} \\left(w - 4\\right) + w + 1\\right)^{3}\\right) \\left(y + z\\right)}{w^{6}}$"
      ],
      "text/plain": [
       "(3*w**6 + (-w**3*(w - 4) + w + 1)**3)*(y + z)/w**6"
      ]
     },
     "execution_count": 68,
     "metadata": {},
     "output_type": "execute_result"
    }
   ],
   "source": [
    "display(Math(sym.latex(f1*f2)))\n",
    "fsimple = sym.simplify(f1*f2)\n",
    "fsimple"
   ]
  },
  {
   "cell_type": "code",
   "execution_count": 69,
   "metadata": {},
   "outputs": [
    {
     "data": {
      "text/latex": [
       "$\\displaystyle 0$"
      ],
      "text/plain": [
       "<IPython.core.display.Math object>"
      ]
     },
     "execution_count": 69,
     "metadata": {},
     "output_type": "execute_result"
    }
   ],
   "source": [
    "Math(sym.latex(sym.simplify(f1*f2 - f2*f1)))"
   ]
  },
  {
   "cell_type": "code",
   "execution_count": 71,
   "metadata": {},
   "outputs": [
    {
     "data": {
      "text/latex": [
       "$\\displaystyle \\text{True}$"
      ],
      "text/plain": [
       "True"
      ]
     },
     "execution_count": 71,
     "metadata": {},
     "output_type": "execute_result"
    }
   ],
   "source": [
    "sym.Eq(f1*f2, f2*f1)"
   ]
  },
  {
   "cell_type": "code",
   "execution_count": null,
   "metadata": {},
   "outputs": [],
   "source": []
  }
 ],
 "metadata": {
  "kernelspec": {
   "display_name": "Python 3",
   "language": "python",
   "name": "python3"
  },
  "language_info": {
   "codemirror_mode": {
    "name": "ipython",
    "version": 3
   },
   "file_extension": ".py",
   "mimetype": "text/x-python",
   "name": "python",
   "nbconvert_exporter": "python",
   "pygments_lexer": "ipython3",
   "version": "3.8.3"
  }
 },
 "nbformat": 4,
 "nbformat_minor": 4
}
